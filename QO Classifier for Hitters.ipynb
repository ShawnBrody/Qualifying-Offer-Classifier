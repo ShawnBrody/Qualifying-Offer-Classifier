{
  "nbformat": 4,
  "nbformat_minor": 0,
  "metadata": {
    "colab": {
      "name": "Cook Final Project (Hitters).ipynb",
      "provenance": [],
      "collapsed_sections": [],
      "include_colab_link": true
    },
    "kernelspec": {
      "name": "python3",
      "display_name": "Python 3"
    }
  },
  "cells": [
    {
      "cell_type": "markdown",
      "metadata": {
        "id": "view-in-github",
        "colab_type": "text"
      },
      "source": [
        "<a href=\"https://colab.research.google.com/github/ShawnBrody/Qualifying-Offer-Classifier/blob/master/QO%20Classifier%20for%20Hitters.ipynb\" target=\"_parent\"><img src=\"https://colab.research.google.com/assets/colab-badge.svg\" alt=\"Open In Colab\"/></a>"
      ]
    },
    {
      "cell_type": "code",
      "metadata": {
        "id": "bt0wFNq5VUjx",
        "colab_type": "code",
        "cellView": "form",
        "outputId": "89e3e037-4158-477c-e565-5d29a06373e9",
        "colab": {
          "base_uri": "https://localhost:8080/",
          "height": 202
        }
      },
      "source": [
        "#@title In order to start building a model, we must pull in our data from GitHub\n",
        "\n",
        "! wget https://raw.githubusercontent.com/ShawnBrody/Qualifying-Offer-Classifier/master/Hitters.csv\n",
        "\n",
        "import numpy as np\n",
        "import pandas as pd\n",
        "from sklearn.ensemble import RandomForestClassifier\n",
        "from sklearn.model_selection import train_test_split, GridSearchCV, StratifiedKFold\n",
        "from sklearn.metrics import confusion_matrix, roc_auc_score, classification_report, f1_score\n",
        "import seaborn as sn\n",
        "\n",
        "Hitters = pd.read_csv(\"Hitters.csv\")"
      ],
      "execution_count": 0,
      "outputs": [
        {
          "output_type": "stream",
          "text": [
            "--2019-12-14 05:36:41--  https://raw.githubusercontent.com/ShawnBrody/Qualifying-Offer-Classifier/master/Hitters.csv\n",
            "Resolving raw.githubusercontent.com (raw.githubusercontent.com)... 151.101.0.133, 151.101.64.133, 151.101.128.133, ...\n",
            "Connecting to raw.githubusercontent.com (raw.githubusercontent.com)|151.101.0.133|:443... connected.\n",
            "HTTP request sent, awaiting response... 200 OK\n",
            "Length: 21199 (21K) [text/plain]\n",
            "Saving to: ‘Hitters.csv’\n",
            "\n",
            "\rHitters.csv           0%[                    ]       0  --.-KB/s               \rHitters.csv         100%[===================>]  20.70K  --.-KB/s    in 0.01s   \n",
            "\n",
            "2019-12-14 05:36:41 (1.73 MB/s) - ‘Hitters.csv’ saved [21199/21199]\n",
            "\n"
          ],
          "name": "stdout"
        }
      ]
    },
    {
      "cell_type": "code",
      "metadata": {
        "id": "Y_NxSmTkfrkW",
        "colab_type": "code",
        "cellView": "form",
        "outputId": "b50e05ba-cad1-4e20-fe37-c38cb04a5541",
        "colab": {
          "base_uri": "https://localhost:8080/",
          "height": 151
        }
      },
      "source": [
        "#@title And peek at the hitters data that comes in:\n",
        "print(Hitters.head())"
      ],
      "execution_count": 0,
      "outputs": [
        {
          "output_type": "stream",
          "text": [
            "            Player  Age  Year  playerID  ...   Dol  QOAmount  SalaryOverQO  QO\n",
            "0  A.J. Pierzynski   35  2012       746  ...  21.3  13300000             0   0\n",
            "1     Adam LaRoche   32  2012      1904  ...  22.0  13300000             0   1\n",
            "2    Alex Gonzalez   35  2012       520  ...   1.9  13300000             0   0\n",
            "3      Angel Pagan   30  2012      2918  ...  29.9  13300000             0   0\n",
            "4      Carlos Pena   34  2012       934  ...   3.9  13300000             0   0\n",
            "\n",
            "[5 rows x 26 columns]\n"
          ],
          "name": "stdout"
        }
      ]
    },
    {
      "cell_type": "markdown",
      "metadata": {
        "id": "4sjfLBw8hcCR",
        "colab_type": "text"
      },
      "source": [
        "With 26 columns in the design matrix, it made sense to do a little downsizing in dimensions. This was done through theoretical dimension reduction (which columns made sense, and for what reason) and which columns were found to be have large feature importances in a full run through a Random Forest. Age, PA, Dol, Salary, G, and fWAR were chosen for theoretical reasons (they put forth necessary information to capture current production and past pay). Off was chosen to represent purely offensive-related production, and was found to have a large feature importance. An explanation of each variable follows:\n",
        "\n",
        "\n",
        "* Age – Official age of player\n",
        "* PA – Total Plate Appearances\n",
        "* Dol – $/fWAR (value created)\n",
        "* Salary – Actual salary\n",
        "* Off – Offensive run value\n",
        "* G – Games appeared in\n",
        "* fWAR – Wins Above Replacement (FG)\n"
      ]
    },
    {
      "cell_type": "code",
      "metadata": {
        "id": "wVB7xu8h8zN0",
        "colab_type": "code",
        "outputId": "87bb9705-caa6-49c8-a66d-98d7275f260c",
        "cellView": "form",
        "colab": {
          "base_uri": "https://localhost:8080/",
          "height": 50
        }
      },
      "source": [
        "#@title Narrowing down the features to create a design matrix:\n",
        "# Creates dataframes for design matrix and output variable\n",
        "Hit_Y = Hitters.iloc[:,-1] # Creates Y variable based on final column\n",
        "Hit_X = Hitters[['Age', 'PA', 'Dol', 'Salary', 'Off', 'G', 'WAR']] # Uses most important cols to create design matrix\n",
        "\n",
        "## Optional way to create Hitter design matrix that helps see importance of variables\n",
        "# Hit_X = Hitters.iloc[:,1:25]\n",
        "# Hit_X = Hit_X.drop('FRM', axis=1)\n",
        "\n",
        "# Outputs shape of design matrix\n",
        "print(\"Number of rows: {0}\".format(Hit_X.shape[0]))\n",
        "print(\"Number of columns: {0}\".format(Hit_X.shape[1]))"
      ],
      "execution_count": 0,
      "outputs": [
        {
          "output_type": "stream",
          "text": [
            "Number of rows: 192\n",
            "Number of columns: 7\n"
          ],
          "name": "stdout"
        }
      ]
    },
    {
      "cell_type": "code",
      "metadata": {
        "id": "tfxc7k6jiQHl",
        "colab_type": "code",
        "cellView": "form",
        "outputId": "e7a5cefd-f737-4893-e370-45e542ee9413",
        "colab": {
          "base_uri": "https://localhost:8080/",
          "height": 118
        }
      },
      "source": [
        "#@title Description of the design matrix:\n",
        "print(Hit_X.head())"
      ],
      "execution_count": 0,
      "outputs": [
        {
          "output_type": "stream",
          "text": [
            "   Age   PA   Dol   Salary   Off    G  WAR\n",
            "0   35  520  21.3  6000000   9.5  135  3.3\n",
            "1   32  647  22.0  8000000  19.0  154  3.4\n",
            "2   35   89   1.9  3500000   0.8   24  0.3\n",
            "3   30  659  29.9  4850000  21.1  154  4.6\n",
            "4   34  600   3.9  7250000  -5.1  160  0.6\n"
          ],
          "name": "stdout"
        }
      ]
    },
    {
      "cell_type": "code",
      "metadata": {
        "id": "FXP1jkuajEC_",
        "colab_type": "code",
        "cellView": "form",
        "outputId": "6a4a2501-5258-42b0-9bc2-05f317e54bbc",
        "colab": {
          "base_uri": "https://localhost:8080/",
          "height": 264
        }
      },
      "source": [
        "#@title Here we can see the class imbalance at play:\n",
        "(Hit_Y.value_counts()/Hit_Y.shape[0]).plot(kind='pie', label='', title='Did hitter receive a Qualifying Offer?', autopct='%1.1f%%').get_figure().savefig('hitimb.png')"
      ],
      "execution_count": 0,
      "outputs": [
        {
          "output_type": "display_data",
          "data": {
            "image/png": "[encoded data removed]",
            "text/plain": [
              "<Figure size 432x288 with 1 Axes>"
            ]
          },
          "metadata": {
            "tags": []
          }
        }
      ]
    },
    {
      "cell_type": "code",
      "metadata": {
        "id": "PAUbYZHeOfC5",
        "colab_type": "code",
        "outputId": "47569c10-45a6-4687-db3a-c23b62543a05",
        "cellView": "form",
        "colab": {
          "base_uri": "https://localhost:8080/",
          "height": 134
        }
      },
      "source": [
        "#@title Describe Class Imbalance and train/test split\n",
        "### Because we have a smaller dataset and class imbalance, we need to\n",
        "### up-sample before we train our models\n",
        "\n",
        "# Doing both of the above, we create our train/test split\n",
        "Hit_trainX_orig, Hit_testX, Hit_trainY_orig, Hit_testY = train_test_split(Hit_X,\n",
        "                                         Hit_Y, \n",
        "                                         #stratify = Hit_Y,\n",
        "                                         test_size = 0.2, \n",
        "                                         random_state = 42)\n",
        "\n",
        "print(\"Full dataset\")\n",
        "print(\"0:  {0}\".format((Hitters.iloc[:,-1]==0).sum()))\n",
        "print(\"1:  {0}\".format(Hitters.iloc[:,-1].sum()))\n",
        "print()\n",
        "print(\"Validation set\")\n",
        "print(\"0:  {0}\".format((Hit_testY==0).sum()))\n",
        "print(\"1:  {0}\".format(Hit_testY.sum()))"
      ],
      "execution_count": 0,
      "outputs": [
        {
          "output_type": "stream",
          "text": [
            "Full dataset\n",
            "0:  144\n",
            "1:  48\n",
            "\n",
            "Validation set\n",
            "0:  32\n",
            "1:  7\n"
          ],
          "name": "stdout"
        }
      ]
    },
    {
      "cell_type": "markdown",
      "metadata": {
        "id": "g0OSWlAbtGGq",
        "colab_type": "text"
      },
      "source": [
        "Synthetic Minority Over-sampling Technique (SMOTE) can help us take care of our class imbalance problem by over-sampling the minority class. Here we can see the package and function call required to use SMOTE. What will come out is training data that is synthetically balanced:"
      ]
    },
    {
      "cell_type": "code",
      "metadata": {
        "id": "_pVHl-N_s0l-",
        "colab_type": "code",
        "cellView": "both",
        "colab": {}
      },
      "source": [
        "%%capture\n",
        "from imblearn.over_sampling import SMOTE\n",
        "\n",
        "sm = SMOTE(random_state=42, ratio=1.0)\n",
        "Hit_trainX, Hit_trainY = sm.fit_sample(Hit_trainX_orig, Hit_trainY_orig)"
      ],
      "execution_count": 0,
      "outputs": []
    },
    {
      "cell_type": "code",
      "metadata": {
        "id": "74c0d6nor-iX",
        "colab_type": "code",
        "cellView": "form",
        "outputId": "d0e8e493-f73b-4c92-ae2b-4f457fe3af67",
        "colab": {
          "base_uri": "https://localhost:8080/",
          "height": 134
        }
      },
      "source": [
        "#@title SMOTE in practice\n",
        "\n",
        "# Shows imbalance maintained even with train/test splits, thanks to stratifying\n",
        "print(\"Training set before SMOTE\")\n",
        "print(\"0:  {0}\".format((Hit_trainY_orig==0).sum()))\n",
        "print(\"1:  {0}\".format(Hit_trainY_orig.sum()))\n",
        "print()\n",
        "print(\"Training Set after SMOTE\")\n",
        "print(\"0:  {0}\".format((Hit_trainY==0).sum()))\n",
        "print(\"1:  {0}\".format(Hit_trainY.sum()))"
      ],
      "execution_count": 0,
      "outputs": [
        {
          "output_type": "stream",
          "text": [
            "Training set before SMOTE\n",
            "0:  112\n",
            "1:  41\n",
            "\n",
            "Training Set after SMOTE\n",
            "0:  112\n",
            "1:  112\n"
          ],
          "name": "stdout"
        }
      ]
    },
    {
      "cell_type": "markdown",
      "metadata": {
        "id": "AA2CCnexN27t",
        "colab_type": "text"
      },
      "source": [
        "My first attempt at creating a classifier will start with a RandomForest. Using the following parameters, I used sklearn's GridSearchCV function to find optimal hyperparameters:\n",
        "\n",
        "*   n_estimators (100, 300, 500, 800, 1000)\n",
        "*   criterion (gini, entropy)\n",
        "*   max_depth (5, 10, 15)\n",
        "\n",
        "For a scoring metric I chose f1 score, because of the presence of class imbalance."
      ]
    },
    {
      "cell_type": "code",
      "metadata": {
        "id": "raAZyl7fFFkF",
        "colab_type": "code",
        "cellView": "both",
        "colab": {}
      },
      "source": [
        "%%capture\n",
        "# Creates and stores Random Forest object\n",
        "rf = RandomForestClassifier(random_state=0, class_weight=None)\n",
        "\n",
        "# Sets up a parameter grid to tune hyperparameters\n",
        "# bootstrap and max_features are left alone, because they never changed\n",
        "rf_grid_param = {\n",
        "    'n_estimators': [100, 300, 500, 800, 1000],\n",
        "    'criterion': ['gini', 'entropy'],\n",
        "    'max_depth': [5, 10, 15],\n",
        "}\n",
        "\n",
        "# Puts gridsearch together (takes about 3 minutes to run)\n",
        "# f1_weighted is better scoring choice because of data imbalance, however SMOTE\n",
        "# takes care of this imbalance, so we can just use f1 as our scoring metric\n",
        "rfGridSearch = GridSearchCV(rf, param_grid=rf_grid_param, scoring='f1', cv=3, n_jobs=-1)\n",
        "\n",
        "# Now we fit the training data to our gridsearch object\n",
        "rfGridSearch.fit(Hit_trainX, Hit_trainY.ravel())"
      ],
      "execution_count": 0,
      "outputs": []
    },
    {
      "cell_type": "code",
      "metadata": {
        "id": "SxIx4N7sed8V",
        "colab_type": "code",
        "outputId": "de1340b5-7127-4e16-8bd3-f5987fc3d4c2",
        "cellView": "form",
        "colab": {
          "base_uri": "https://localhost:8080/",
          "height": 50
        }
      },
      "source": [
        "#@title Next, we seek to choose the best parameters from GridSearchCV\n",
        "# Now we want to isolate the parameters \n",
        "# with the highest f1_weighted score on the train data\n",
        "print(\"Best Parameters: {0} \\n\".format(rfGridSearch.best_params_))\n"
      ],
      "execution_count": 0,
      "outputs": [
        {
          "output_type": "stream",
          "text": [
            "Best Parameters: {'criterion': 'gini', 'max_depth': 5, 'n_estimators': 100} \n",
            "\n"
          ],
          "name": "stdout"
        }
      ]
    },
    {
      "cell_type": "code",
      "metadata": {
        "id": "TeX6FCA9z5sR",
        "colab_type": "code",
        "cellView": "form",
        "outputId": "74985b78-f9c7-4e34-ec0b-cc0a400ee118",
        "colab": {
          "base_uri": "https://localhost:8080/",
          "height": 218
        }
      },
      "source": [
        "#@title We then fit the validation set to those specifications. Here are the results:\n",
        "# These now become our estimator parameters\n",
        "# Now our model is ready to be introduced to our test data\n",
        "# proba is better than deterministic for roc_auc\n",
        "rf_best_grid = rfGridSearch.best_estimator_\n",
        "rf_test_score = f1_score(Hit_testY, rf_best_grid.predict(Hit_testX), average='weighted')\n",
        "rf_grid_roc_auc = roc_auc_score(Hit_testY, rf_best_grid.predict_proba(Hit_testX)[:,1])\n",
        "\n",
        "print(\"Classification Report:\\n{0}\".format(classification_report(Hit_testY, rf_best_grid.predict(Hit_testX))))\n",
        "# print(\"Our best train f1 score is: {0}\".format(round(rfGridSearch.best_score_, 4)))\n",
        "print(\"Our test f1 score is: {0}\".format(round(rf_test_score, 4)))\n",
        "print(\"Our test roc_auc score is: {0}\".format(round(rf_grid_roc_auc, 4)))"
      ],
      "execution_count": 0,
      "outputs": [
        {
          "output_type": "stream",
          "text": [
            "Classification Report:\n",
            "              precision    recall  f1-score   support\n",
            "\n",
            "           0       1.00      0.91      0.95        32\n",
            "           1       0.70      1.00      0.82         7\n",
            "\n",
            "    accuracy                           0.92        39\n",
            "   macro avg       0.85      0.95      0.89        39\n",
            "weighted avg       0.95      0.92      0.93        39\n",
            "\n",
            "Our test f1 score is: 0.928\n",
            "Our test roc_auc score is: 0.9866\n"
          ],
          "name": "stdout"
        }
      ]
    },
    {
      "cell_type": "code",
      "metadata": {
        "id": "cELZKYUYPgHO",
        "colab_type": "code",
        "outputId": "c967c326-96e7-46a1-8689-3d08835b54cb",
        "cellView": "form",
        "colab": {
          "base_uri": "https://localhost:8080/",
          "height": 168
        }
      },
      "source": [
        "#@title Just to get an idea of what columns told us the most, we can also look at Feature Importance\n",
        "# Creates a pseudo table of feature importances\n",
        "# (Changing the design matrix at the top will show feature importances for whole dataset)\n",
        "rf_dict_vals = pd.Series(data=rf_best_grid.feature_importances_,index=Hit_trainX_orig.columns)\n",
        "print(\"Feature Importances:\\n{0}\".format(rf_dict_vals.sort_values(ascending=False)))"
      ],
      "execution_count": 0,
      "outputs": [
        {
          "output_type": "stream",
          "text": [
            "Feature Importances:\n",
            "Salary    0.295934\n",
            "Dol       0.220246\n",
            "WAR       0.163585\n",
            "Off       0.149090\n",
            "PA        0.088044\n",
            "G         0.049923\n",
            "Age       0.033177\n",
            "dtype: float64\n"
          ],
          "name": "stdout"
        }
      ]
    },
    {
      "cell_type": "code",
      "metadata": {
        "id": "N9TPZg8kcBrw",
        "colab_type": "code",
        "outputId": "6da182d3-ea45-48e9-dac8-4cd2f979d952",
        "cellView": "form",
        "colab": {
          "base_uri": "https://localhost:8080/",
          "height": 296
        }
      },
      "source": [
        "#@title Finally, we look at the confusion matrix to see how our model performed on the validation set\n",
        "# Class predictions for test data\n",
        "rf_predictions = rf_best_grid.predict(Hit_testX)\n",
        "\n",
        "# Confusion matrix for test data\n",
        "conf_mat_rf = confusion_matrix(Hit_testY, rf_predictions)/Hit_testY.shape[0]\n",
        "\n",
        "# Plotted Confusion matrix for test data\n",
        "rf_df_cm = pd.DataFrame(conf_mat_rf, index = [i for i in [0,1]],\n",
        "                  columns = [i for i in [0,1]])\n",
        "sn.heatmap(rf_df_cm, annot=True, linewidths=0.5, cmap=sn.color_palette([\"#9b59b6\", \"#3498db\", \"#95a5a6\", \"#e74c3c\", \"#34495e\", \"#2ecc71\"])).set(xlabel=\"Predicted\", ylabel=\"True\")\n",
        "print()"
      ],
      "execution_count": 0,
      "outputs": [
        {
          "output_type": "stream",
          "text": [
            "\n"
          ],
          "name": "stdout"
        },
        {
          "output_type": "display_data",
          "data": {
            "image/png": "[encoded data removed]",
            "text/plain": [
              "<Figure size 432x288 with 2 Axes>"
            ]
          },
          "metadata": {
            "tags": []
          }
        }
      ]
    },
    {
      "cell_type": "code",
      "metadata": {
        "id": "BKBEjd1TcwSc",
        "colab_type": "code",
        "outputId": "97b7ce72-2606-4b88-b534-aeb0c839bb4e",
        "cellView": "form",
        "colab": {
          "base_uri": "https://localhost:8080/",
          "height": 481
        }
      },
      "source": [
        "#@title And to get an understanding of how the model performs on the entire dataset:\n",
        "# Predictions for full dataset\n",
        "rf_pred_full = rf_best_grid.predict(Hit_X)\n",
        "\n",
        "# Confusion matrix for full dataset\n",
        "conf_mat_rf_full = confusion_matrix(Hit_Y, rf_pred_full)/Hit_Y.shape[0]\n",
        "\n",
        "# Plotted Confusion matrix for full dataset\n",
        "rf_df_cm_full = pd.DataFrame(conf_mat_rf_full, index = [i for i in [0,1]],\n",
        "                  columns = [i for i in [0,1]])\n",
        "sn.heatmap(rf_df_cm_full, annot=True, linewidths=0.5, cmap=sn.color_palette([\"#9b59b6\", \"#3498db\", \"#95a5a6\", \"#e74c3c\", \"#34495e\", \"#2ecc71\"])).set(xlabel=\"Predicted\", ylabel=\"True\")\n",
        "\n",
        "rf_ovr_f1 = f1_score(Hit_Y, rf_best_grid.predict(Hit_X), average='weighted')\n",
        "rf_ovr_roc_auc = roc_auc_score(Hit_Y, rf_best_grid.predict_proba(Hit_X)[:,1])\n",
        "\n",
        "print(\"Classification Report:\\n{0}\".format(classification_report(Hit_Y, rf_best_grid.predict(Hit_X))))\n",
        "print(\"Our overall f1 score is: {0}\".format(round(rf_ovr_f1, 4)))\n",
        "print(\"Our overall roc_auc score is: {0}\".format(round(rf_ovr_roc_auc, 4)))"
      ],
      "execution_count": 0,
      "outputs": [
        {
          "output_type": "stream",
          "text": [
            "Classification Report:\n",
            "              precision    recall  f1-score   support\n",
            "\n",
            "           0       1.00      0.97      0.98       144\n",
            "           1       0.91      1.00      0.95        48\n",
            "\n",
            "    accuracy                           0.97       192\n",
            "   macro avg       0.95      0.98      0.97       192\n",
            "weighted avg       0.98      0.97      0.97       192\n",
            "\n",
            "Our overall f1 score is: 0.9744\n",
            "Our overall roc_auc score is: 0.9968\n"
          ],
          "name": "stdout"
        },
        {
          "output_type": "display_data",
          "data": {
            "image/png": "[encoded data removed]",
            "text/plain": [
              "<Figure size 432x288 with 2 Axes>"
            ]
          },
          "metadata": {
            "tags": []
          }
        }
      ]
    },
    {
      "cell_type": "code",
      "metadata": {
        "id": "YVEAIBKwqPvt",
        "colab_type": "code",
        "outputId": "5ad1ac23-09d4-4b46-8392-6014be781a95",
        "cellView": "form",
        "colab": {
          "base_uri": "https://localhost:8080/",
          "height": 118
        }
      },
      "source": [
        "#@title An interesting thing we can do here is look at all the players who ended up misclassified. Here are those specific players:\n",
        "# Who were the ones that fell through the cracks?\n",
        "da = pd.DataFrame(rf_best_grid.predict(Hit_X)==Hit_Y)\n",
        "print(Hitters.iloc[da.loc[da['QO']==False].index,0:3])"
      ],
      "execution_count": 0,
      "outputs": [
        {
          "output_type": "stream",
          "text": [
            "               Player  Age  Year\n",
            "43       Hunter Pence   30  2013\n",
            "67       Adam LaRoche   34  2014\n",
            "90   Asdrubal Cabrera   29  2015\n",
            "165    Logan Morrison   29  2017\n",
            "182  Michael Brantley   31  2018\n"
          ],
          "name": "stdout"
        }
      ]
    },
    {
      "cell_type": "markdown",
      "metadata": {
        "id": "X1ksn7E42GRM",
        "colab_type": "text"
      },
      "source": [
        "Interestingly enough, all of these players received contract extensions in the five-day period following the conclusion of the World Series. So these players, who were likely to receive QO's, did not because their eligibility was trumped by a contract extension. This is an area we could adjust in future iterations of our model."
      ]
    },
    {
      "cell_type": "markdown",
      "metadata": {
        "id": "XKO0hyPxURuj",
        "colab_type": "text"
      },
      "source": [
        "My second attempt at creating a classifier will start with a Logistic Regression. Using the following parameters, I used sklearn's GridSearchCV function to find optimal hyperparameters:\n",
        "\n",
        "*   C (np.logspace(-4, 4, 20))\n",
        "*   class_weight (None, balanced)\n",
        "*   penalty (l1, l2)\n",
        "\n",
        "For a scoring metric I chose f1 score, because of the presence of class imbalance."
      ]
    },
    {
      "cell_type": "code",
      "metadata": {
        "id": "UhZfUSQyUhDi",
        "colab_type": "code",
        "cellView": "both",
        "colab": {}
      },
      "source": [
        "%%capture\n",
        "from sklearn.linear_model import LogisticRegression\n",
        "\n",
        "# Creates and stores Random Forest object\n",
        "logr = LogisticRegression()\n",
        "\n",
        "# Sets up a parameter grid to tune hyperparameters\n",
        "# bootstrap and max_features are left alone, because they never changed\n",
        "logr_grid_param = {\n",
        "    'penalty' : ['l1', 'l2'],\n",
        "    'C' : np.logspace(-4, 4, 20),\n",
        "    'class_weight': [None, 'balanced'] \n",
        "}\n",
        "\n",
        "# Puts gridsearch together\n",
        "# f1_weighted is better scoring choice because of data imbalance, however SMOTE\n",
        "# takes care of this imbalance, so we can just use f1 as our scoring metric\n",
        "logrGridSearch = GridSearchCV(logr, param_grid=logr_grid_param, scoring='f1', cv=3, n_jobs=-1)\n",
        "\n",
        "# Now we fit the training data to our gridsearch object\n",
        "logrGridSearch.fit(Hit_trainX, Hit_trainY.ravel())"
      ],
      "execution_count": 0,
      "outputs": []
    },
    {
      "cell_type": "code",
      "metadata": {
        "id": "FZsM-txbjtoF",
        "colab_type": "code",
        "outputId": "4d7816f0-5768-474a-ca89-4141115e4c2b",
        "cellView": "form",
        "colab": {
          "base_uri": "https://localhost:8080/",
          "height": 50
        }
      },
      "source": [
        "#@title Next, we seek to choose the best parameters from GridSearchCV\n",
        "# Now we want to isolate the parameters \n",
        "# with the highest f1_weighted score on the train data\n",
        "print(\"Best Parameters: {0} \\n\".format(logrGridSearch.best_params_))"
      ],
      "execution_count": 0,
      "outputs": [
        {
          "output_type": "stream",
          "text": [
            "Best Parameters: {'C': 206.913808111479, 'class_weight': 'balanced', 'penalty': 'l1'} \n",
            "\n"
          ],
          "name": "stdout"
        }
      ]
    },
    {
      "cell_type": "code",
      "metadata": {
        "id": "WAyXN-8Ai2vD",
        "colab_type": "code",
        "cellView": "form",
        "outputId": "064ba6e8-95e6-44a7-ef2b-320ec37b43b1",
        "colab": {
          "base_uri": "https://localhost:8080/",
          "height": 218
        }
      },
      "source": [
        "#@title We then fit the validation set to those specifications. Here are the results:\n",
        "# These now become our estimator parameters\n",
        "# Now our model is ready to be introduced to our test data\n",
        "# proba is better than deterministic for roc_auc\n",
        "logr_best_grid = logrGridSearch.best_estimator_\n",
        "logr_test_score = f1_score(Hit_testY, logr_best_grid.predict(Hit_testX), average='weighted')\n",
        "logr_grid_roc_auc = roc_auc_score(Hit_testY, logr_best_grid.predict_proba(Hit_testX)[:,1])\n",
        "\n",
        "print(\"Classification Report:\\n{0}\".format(classification_report(Hit_testY, logr_best_grid.predict(Hit_testX))))\n",
        "print(\"Our test f1 score is: {0}\".format(round(logr_test_score, 4)))\n",
        "print(\"Our test roc_auc score is: {0}\".format(round(logr_grid_roc_auc, 4)))"
      ],
      "execution_count": 0,
      "outputs": [
        {
          "output_type": "stream",
          "text": [
            "Classification Report:\n",
            "              precision    recall  f1-score   support\n",
            "\n",
            "           0       1.00      0.91      0.95        32\n",
            "           1       0.70      1.00      0.82         7\n",
            "\n",
            "    accuracy                           0.92        39\n",
            "   macro avg       0.85      0.95      0.89        39\n",
            "weighted avg       0.95      0.92      0.93        39\n",
            "\n",
            "Our test f1 score is: 0.928\n",
            "Our test roc_auc score is: 0.9598\n"
          ],
          "name": "stdout"
        }
      ]
    },
    {
      "cell_type": "code",
      "metadata": {
        "id": "AAuD6tTJkzby",
        "colab_type": "code",
        "outputId": "e245d2cd-43cb-4131-ae81-f219599e681d",
        "cellView": "form",
        "colab": {
          "base_uri": "https://localhost:8080/",
          "height": 296
        }
      },
      "source": [
        "#@title Finally, we look at the confusion matrix to see how our model performed on the validation set\n",
        "# Class predictions for test data\n",
        "logr_predictions = logr_best_grid.predict(Hit_testX)\n",
        "\n",
        "# Confusion matrix for test data\n",
        "conf_mat_logr = confusion_matrix(Hit_testY, logr_predictions)/Hit_testY.shape[0]\n",
        "\n",
        "# Plotted Confusion matrix for test data\n",
        "logr_df_cm = pd.DataFrame(conf_mat_logr, index = [i for i in [0,1]],\n",
        "                  columns = [i for i in [0,1]])\n",
        "sn.heatmap(logr_df_cm, annot=True, linewidths=0.5, cmap=sn.color_palette([\"#9b59b6\", \"#3498db\", \"#95a5a6\", \"#e74c3c\", \"#34495e\", \"#2ecc71\"])).set(xlabel=\"Predicted\", ylabel=\"True\")\n",
        "print()"
      ],
      "execution_count": 0,
      "outputs": [
        {
          "output_type": "stream",
          "text": [
            "\n"
          ],
          "name": "stdout"
        },
        {
          "output_type": "display_data",
          "data": {
            "image/png": "[encoded data removed]",
            "text/plain": [
              "<Figure size 432x288 with 2 Axes>"
            ]
          },
          "metadata": {
            "tags": []
          }
        }
      ]
    },
    {
      "cell_type": "code",
      "metadata": {
        "id": "uERuorEQl7uF",
        "colab_type": "code",
        "outputId": "141f06e4-9db2-4d7d-c0b9-8fa15abaee32",
        "cellView": "form",
        "colab": {
          "base_uri": "https://localhost:8080/",
          "height": 481
        }
      },
      "source": [
        "#@title And to get an understanding of how the model performs on the entire dataset:\n",
        "# Predictions for full dataset\n",
        "logr_pred_full = logr_best_grid.predict(Hit_X)\n",
        "\n",
        "# Confusion matrix for full dataset\n",
        "conf_mat_logr_full = confusion_matrix(Hit_Y, logr_pred_full)/Hit_Y.shape[0]\n",
        "\n",
        "# Plotted Confusion matrix for full dataset\n",
        "logr_df_cm_full = pd.DataFrame(conf_mat_logr_full, index = [i for i in [0,1]],\n",
        "                  columns = [i for i in [0,1]])\n",
        "sn.heatmap(logr_df_cm_full, annot=True, linewidths=0.5, cmap=sn.color_palette([\"#9b59b6\", \"#3498db\", \"#95a5a6\", \"#e74c3c\", \"#34495e\", \"#2ecc71\"])).set(xlabel=\"Predicted\", ylabel=\"True\")\n",
        "\n",
        "logr_ovr_f1 = f1_score(Hit_Y, logr_best_grid.predict(Hit_X), average='weighted')\n",
        "logr_ovr_roc_auc = roc_auc_score(Hit_Y, logr_best_grid.predict_proba(Hit_X)[:,1])\n",
        "\n",
        "print(\"Classification Report:\\n{0}\".format(classification_report(Hit_Y, logr_best_grid.predict(Hit_X))))\n",
        "print(\"Our overall f1 score is: {0}\".format(round(logr_ovr_f1, 4)))\n",
        "print(\"Our overall roc_auc score is: {0}\".format(round(logr_ovr_roc_auc, 4)))"
      ],
      "execution_count": 0,
      "outputs": [
        {
          "output_type": "stream",
          "text": [
            "Classification Report:\n",
            "              precision    recall  f1-score   support\n",
            "\n",
            "           0       0.95      0.91      0.93       144\n",
            "           1       0.76      0.85      0.80        48\n",
            "\n",
            "    accuracy                           0.90       192\n",
            "   macro avg       0.85      0.88      0.87       192\n",
            "weighted avg       0.90      0.90      0.90       192\n",
            "\n",
            "Our overall f1 score is: 0.8978\n",
            "Our overall roc_auc score is: 0.9459\n"
          ],
          "name": "stdout"
        },
        {
          "output_type": "display_data",
          "data": {
            "image/png": "[encoded data removed]",
            "text/plain": [
              "<Figure size 432x288 with 2 Axes>"
            ]
          },
          "metadata": {
            "tags": []
          }
        }
      ]
    },
    {
      "cell_type": "markdown",
      "metadata": {
        "id": "2E5ZJLu4pv82",
        "colab_type": "text"
      },
      "source": [
        "My final attempt at creating a classifier will be a Gaussian Naive Bayes. I used sklearn's GridSearchCV function, however one of the benefits of GNB is that it works rather effectively OOTB. Therefore, there are no hyperparameters to tune here.\n",
        "\n",
        "For a scoring metric I chose f1 score, because of the presence of class imbalance."
      ]
    },
    {
      "cell_type": "code",
      "metadata": {
        "id": "tmCQ09tTsv0l",
        "colab_type": "code",
        "cellView": "both",
        "colab": {}
      },
      "source": [
        "%%capture\n",
        "from sklearn.naive_bayes import GaussianNB\n",
        "\n",
        "# Creates and stores Random Forest object\n",
        "gnb = GaussianNB()\n",
        "\n",
        "# Sets up a parameter grid to tune hyperparameters\n",
        "# bootstrap and max_features are left alone, because they never changed\n",
        "\n",
        "gnb_grid_param = {\n",
        "    \n",
        "}\n",
        "\n",
        "\n",
        "# Puts gridsearch together\n",
        "# f1_weighted is better scoring choice because of data imbalance, however SMOTE\n",
        "# takes care of this imbalance, so we can just use f1 as our scoring metric\n",
        "gnbGridSearch = GridSearchCV(gnb, param_grid=gnb_grid_param, scoring='f1', cv=3, n_jobs=-1,)\n",
        "\n",
        "# Now we fit the training data to our gridsearch object\n",
        "gnbGridSearch.fit(Hit_trainX, Hit_trainY.ravel())"
      ],
      "execution_count": 0,
      "outputs": []
    },
    {
      "cell_type": "code",
      "metadata": {
        "id": "8oJZc2f0RzHE",
        "colab_type": "code",
        "outputId": "aa7b3016-df80-4fc4-cc57-dce804a67900",
        "cellView": "form",
        "colab": {
          "base_uri": "https://localhost:8080/",
          "height": 218
        }
      },
      "source": [
        "#@title We then fit the validation set to those specifications. Here are the results:\n",
        "\n",
        "# Now our model is ready to be introduced to our test data\n",
        "# proba is better than deterministic for roc_auc\n",
        "gnb_best_grid = gnbGridSearch.best_estimator_\n",
        "gnb_test_score = f1_score(Hit_testY, gnb_best_grid.predict(Hit_testX), average='weighted')\n",
        "gnb_grid_roc_auc = roc_auc_score(Hit_testY, gnb_best_grid.predict_proba(Hit_testX)[:,1])\n",
        "\n",
        "print(\"Classification Report:\\n{0}\".format(classification_report(Hit_testY, gnb_best_grid.predict(Hit_testX))))\n",
        "print(\"Our test f1 score is: {0}\".format(round(gnb_test_score, 4)))\n",
        "print(\"Our test roc_auc score is: {0}\".format(round(gnb_grid_roc_auc, 4)))"
      ],
      "execution_count": 0,
      "outputs": [
        {
          "output_type": "stream",
          "text": [
            "Classification Report:\n",
            "              precision    recall  f1-score   support\n",
            "\n",
            "           0       0.96      0.75      0.84        32\n",
            "           1       0.43      0.86      0.57         7\n",
            "\n",
            "    accuracy                           0.77        39\n",
            "   macro avg       0.69      0.80      0.71        39\n",
            "weighted avg       0.86      0.77      0.79        39\n",
            "\n",
            "Our test f1 score is: 0.7935\n",
            "Our test roc_auc score is: 0.8884\n"
          ],
          "name": "stdout"
        }
      ]
    },
    {
      "cell_type": "code",
      "metadata": {
        "id": "6mkLTP_QTs3B",
        "colab_type": "code",
        "outputId": "8d44e60a-f41a-4940-af04-a845093df586",
        "cellView": "form",
        "colab": {
          "base_uri": "https://localhost:8080/",
          "height": 296
        }
      },
      "source": [
        "#@title Finally, we look at the confusion matrix to see how our model performed on the validation set\n",
        "# Class predictions for test data\n",
        "gnb_predictions = gnb_best_grid.predict(Hit_testX)\n",
        "\n",
        "# Confusion matrix for test data\n",
        "conf_mat_gnb = confusion_matrix(Hit_testY, gnb_predictions)/Hit_testY.shape[0]\n",
        "\n",
        "# Plotted Confusion matrix for test data\n",
        "gnb_df_cm = pd.DataFrame(conf_mat_gnb, index = [i for i in [0,1]],\n",
        "                  columns = [i for i in [0,1]])\n",
        "sn.heatmap(gnb_df_cm, annot=True, linewidths=0.5, cmap=sn.color_palette([\"#9b59b6\", \"#3498db\", \"#95a5a6\", \"#e74c3c\", \"#34495e\", \"#2ecc71\"])).set(xlabel=\"Predicted\", ylabel=\"True\")\n",
        "print()"
      ],
      "execution_count": 0,
      "outputs": [
        {
          "output_type": "stream",
          "text": [
            "\n"
          ],
          "name": "stdout"
        },
        {
          "output_type": "display_data",
          "data": {
            "image/png": "[encoded data removed]",
            "text/plain": [
              "<Figure size 432x288 with 2 Axes>"
            ]
          },
          "metadata": {
            "tags": []
          }
        }
      ]
    },
    {
      "cell_type": "code",
      "metadata": {
        "id": "pbfSbL1dZZi5",
        "colab_type": "code",
        "outputId": "7da910f4-d1fe-4ed2-d029-d31fa15062e0",
        "cellView": "form",
        "colab": {
          "base_uri": "https://localhost:8080/",
          "height": 481
        }
      },
      "source": [
        "#@title And to get an understanding of how the model performs on the entire dataset:\n",
        "# Predictions for full dataset\n",
        "gnb_pred_full = gnb_best_grid.predict(Hit_X)\n",
        "\n",
        "# Confusion matrix for full dataset\n",
        "conf_mat_gnb_full = confusion_matrix(Hit_Y, gnb_pred_full)/Hit_Y.shape[0]\n",
        "\n",
        "# Plotted Confusion matrix for full dataset\n",
        "gnb_df_cm_full = pd.DataFrame(conf_mat_gnb_full, index = [i for i in [0,1]],\n",
        "                  columns = [i for i in [0,1]])\n",
        "sn.heatmap(gnb_df_cm_full, annot=True, linewidths=0.5, cmap=sn.color_palette([\"#9b59b6\", \"#3498db\", \"#95a5a6\", \"#e74c3c\", \"#34495e\", \"#2ecc71\"])).set(xlabel=\"Predicted\", ylabel=\"True\")\n",
        "\n",
        "gnb_ovr_f1 = f1_score(Hit_Y, gnb_best_grid.predict(Hit_X), average='weighted')\n",
        "gnb_ovr_roc_auc = roc_auc_score(Hit_Y, gnb_best_grid.predict_proba(Hit_X)[:,1])\n",
        "\n",
        "print(\"Classification Report:\\n{0}\".format(classification_report(Hit_Y, gnb_best_grid.predict(Hit_X))))\n",
        "print(\"Our overall f1 score is: {0}\".format(round(gnb_ovr_f1, 4)))\n",
        "print(\"Our overall roc_auc score is: {0}\".format(round(gnb_ovr_roc_auc, 4)))"
      ],
      "execution_count": 0,
      "outputs": [
        {
          "output_type": "stream",
          "text": [
            "Classification Report:\n",
            "              precision    recall  f1-score   support\n",
            "\n",
            "           0       0.97      0.77      0.86       144\n",
            "           1       0.57      0.92      0.70        48\n",
            "\n",
            "    accuracy                           0.81       192\n",
            "   macro avg       0.77      0.84      0.78       192\n",
            "weighted avg       0.87      0.81      0.82       192\n",
            "\n",
            "Our overall f1 score is: 0.8189\n",
            "Our overall roc_auc score is: 0.885\n"
          ],
          "name": "stdout"
        },
        {
          "output_type": "display_data",
          "data": {
            "image/png": "[encoded data removed]",
            "text/plain": [
              "<Figure size 432x288 with 2 Axes>"
            ]
          },
          "metadata": {
            "tags": []
          }
        }
      ]
    },
    {
      "cell_type": "markdown",
      "metadata": {
        "id": "QbINfai2ygx7",
        "colab_type": "text"
      },
      "source": [
        "# Conclusions\n",
        "\n",
        "Of the three models built, the Random Forest seems to have performed the best. On the validation set, both the Random Forest and Logistic Regression classifier perform similarly and miss the same rows. However, reapplying both on the full set, the Random Forest model comes out with a better `f1` and `ROC_AUC` score. In general, both models perform well and new data would help better understand which model works better.\n",
        "\n",
        "To solve this issue, I could apply data from the 2019 season to both models and see how the testing metrics change. Overall, I feel confident that both models work in the ways I hoped they would. Both, and the Random Forest in particular, don't have the many misclassifications of players that received a QO when they were predicted not to. This can be particulary useful, as it can help players and agents more accurately predict when they are about to receive a QO offer with enough lead-time to act accordingly."
      ]
    }
  ]
}