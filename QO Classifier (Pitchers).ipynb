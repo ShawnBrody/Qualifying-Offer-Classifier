{
  "nbformat": 4,
  "nbformat_minor": 0,
  "metadata": {
    "colab": {
      "name": "Cook Final Project (Pitchers).ipynb",
      "provenance": [],
      "collapsed_sections": [],
      "include_colab_link": true
    },
    "kernelspec": {
      "name": "python3",
      "display_name": "Python 3"
    }
  },
  "cells": [
    {
      "cell_type": "markdown",
      "metadata": {
        "id": "view-in-github",
        "colab_type": "text"
      },
      "source": [
        "<a href=\"https://colab.research.google.com/github/ShawnBrody/Qualifying-Offer-Classifier/blob/master/QO%20Classifier%20(Pitchers).ipynb\" target=\"_parent\"><img src=\"https://colab.research.google.com/assets/colab-badge.svg\" alt=\"Open In Colab\"/></a>"
      ]
    },
    {
      "cell_type": "code",
      "metadata": {
        "id": "bt0wFNq5VUjx",
        "colab_type": "code",
        "outputId": "c9461799-e941-47a9-e9e5-18f1d70a2c86",
        "cellView": "form",
        "colab": {
          "base_uri": "https://localhost:8080/",
          "height": 222
        }
      },
      "source": [
        "#@title In order to start building a model, we must pull in our data from GitHub\n",
        "! wget https://raw.githubusercontent.com/ShawnBrody/Qualifying-Offer-Classifier/master/Pitchers.csv\n",
        "\n",
        "import numpy as np\n",
        "import pandas as pd\n",
        "from sklearn.ensemble import RandomForestClassifier\n",
        "from sklearn.model_selection import train_test_split, GridSearchCV, StratifiedKFold\n",
        "from sklearn.metrics import confusion_matrix, roc_auc_score, classification_report, f1_score\n",
        "import seaborn as sn\n",
        "\n",
        "Pitchers = pd.read_csv(\"Pitchers.csv\")"
      ],
      "execution_count": 0,
      "outputs": [
        {
          "output_type": "stream",
          "text": [
            "--2019-12-14 05:37:53--  https://raw.githubusercontent.com/ShawnBrody/Qualifying-Offer-Classifier/master/Pitchers.csv\n",
            "Resolving raw.githubusercontent.com (raw.githubusercontent.com)... 151.101.0.133, 151.101.64.133, 151.101.128.133, ...\n",
            "Connecting to raw.githubusercontent.com (raw.githubusercontent.com)|151.101.0.133|:443... connected.\n",
            "HTTP request sent, awaiting response... 200 OK\n",
            "Length: 19922 (19K) [text/plain]\n",
            "Saving to: ‘Pitchers.csv’\n",
            "\n",
            "Pitchers.csv        100%[===================>]  19.46K  --.-KB/s    in 0.004s  \n",
            "\n",
            "2019-12-14 05:37:58 (4.93 MB/s) - ‘Pitchers.csv’ saved [19922/19922]\n",
            "\n"
          ],
          "name": "stdout"
        }
      ]
    },
    {
      "cell_type": "code",
      "metadata": {
        "id": "NRw3CRmZT8YE",
        "colab_type": "code",
        "outputId": "453764df-b58c-4db6-c3b1-7ecc2f0386f1",
        "cellView": "form",
        "colab": {
          "base_uri": "https://localhost:8080/",
          "height": 151
        }
      },
      "source": [
        "#@title And peek at the hitters data that comes in:\n",
        "print(Pitchers.head())"
      ],
      "execution_count": 0,
      "outputs": [
        {
          "output_type": "stream",
          "text": [
            "              Player  Age  Year  playerID  ...  RA9-WAR  Dollars  QOAmount  QO\n",
            "0      Andy Pettitte   40  2012       840  ...      2.1      9.4  13300000   0\n",
            "1      Bartolo Colon   39  2012       375  ...      3.3     16.8  13300000   0\n",
            "2   Brandon McCarthy   28  2012      4662  ...      2.5     12.3  13300000   0\n",
            "3  Carlos Villanueva   28  2012      4138  ...      1.6      3.7  13300000   0\n",
            "4        Chad Durbin   34  2012      1442  ...      0.4     -4.6  13300000   0\n",
            "\n",
            "[5 rows x 23 columns]\n"
          ],
          "name": "stdout"
        }
      ]
    },
    {
      "cell_type": "markdown",
      "metadata": {
        "id": "I9zqvAfym0kQ",
        "colab_type": "text"
      },
      "source": [
        "With 23 columns in the design matrix, it made sense to do a little downsizing in dimensions. This was done through theoretical dimension reduction (which columns made sense, and for what reason). Age, TBF, Dollars, Salary, G, RA9-WAR, GS, and SV were chosen for theoretical reasons (they put forth necessary information to capture current production and past pay). An explanation of each variable follows:\n",
        "\n",
        "* Age – Official age of player\n",
        "* TBF – Total Batters Faced\n",
        "* Dollars – $/fWAR (value created)\n",
        "* Salary – Actual salary\n",
        "* G – Games appeared in\n",
        "* RA9-WAR – Wins Above Replacement (FG)\n",
        "* GS – Games Started\n",
        "* SV – Saves Recorded\n",
        "\n",
        "The main desire to include GS and SV was to provide metrics that helped differentiate between starting pitchers and relief pitchers. These two interact well to do just that. There is merit to the idea that SP and RP should be broken out into seperate model building processes, but for now the best option is to stick with just a pitcher model building process that complements the hitter model building process."
      ]
    },
    {
      "cell_type": "code",
      "metadata": {
        "id": "wVB7xu8h8zN0",
        "colab_type": "code",
        "outputId": "fa6ed133-42f6-4560-8e56-37199d1ba141",
        "cellView": "form",
        "colab": {
          "base_uri": "https://localhost:8080/",
          "height": 50
        }
      },
      "source": [
        "#@title Create Design matrix\n",
        "# Creates dataframes for design matrix and output variable\n",
        "Pit_Y = Pitchers.iloc[:,-1] # Creates Y variable based on final column\n",
        "Pit_X = Pitchers[['Age', 'TBF', 'Dollars', 'Salary', 'G', 'RA9-WAR', 'GS', 'SV']] # Uses most important cols to create design matrix\n",
        "\n",
        "## Optional way to create Pitcher design matrix that helps see importance of variables\n",
        "# Pit_X = Pitcher.iloc[:,1:25]\n",
        "# Pit_X = Pit_X.drop('FRM', axis=1)\n",
        "\n",
        "# Outputs shape of design matrix\n",
        "print(\"Number of rows: {0}\".format(Pit_X.shape[0]))\n",
        "print(\"Number of columns: {0}\".format(Pit_X.shape[1]))"
      ],
      "execution_count": 0,
      "outputs": [
        {
          "output_type": "stream",
          "text": [
            "Number of rows: 193\n",
            "Number of columns: 8\n"
          ],
          "name": "stdout"
        }
      ]
    },
    {
      "cell_type": "code",
      "metadata": {
        "id": "yuUsP_ABsZrF",
        "colab_type": "code",
        "cellView": "form",
        "outputId": "52bbe459-cf41-48d7-ee2c-8a160c3b653f",
        "colab": {
          "base_uri": "https://localhost:8080/",
          "height": 118
        }
      },
      "source": [
        "#@title Description of the design matrix:\n",
        "print(Pit_X.head())"
      ],
      "execution_count": 0,
      "outputs": [
        {
          "output_type": "stream",
          "text": [
            "   Age  TBF  Dollars   Salary   G  RA9-WAR  GS  SV\n",
            "0   40  303      9.4  2500000  12      2.1  12   0\n",
            "1   39  636     16.8  2000000  24      3.3  24   0\n",
            "2   28  469     12.3  4275000  18      2.5  18   0\n",
            "3   28  521      3.7  2277500  38      1.6  16   0\n",
            "4   34  257     -4.6   900000  76      0.4   0   1\n"
          ],
          "name": "stdout"
        }
      ]
    },
    {
      "cell_type": "code",
      "metadata": {
        "id": "PJWTuEtRsjJF",
        "colab_type": "code",
        "cellView": "form",
        "outputId": "adaa1124-855e-4ab2-d06b-21c69e8bc0ea",
        "colab": {
          "base_uri": "https://localhost:8080/",
          "height": 264
        }
      },
      "source": [
        "#@title Here we can see the class imbalance at play:\n",
        "(Pit_Y.value_counts()/Pit_Y.shape[0]).plot(kind='pie', label='', title='Did pitcher receive a Qualifying Offer?', autopct='%1.1f%%').get_figure().savefig('pitimb.png')"
      ],
      "execution_count": 0,
      "outputs": [
        {
          "output_type": "display_data",
          "data": {
            "image/png": "[encoded data removed]",
            "text/plain": [
              "<Figure size 432x288 with 1 Axes>"
            ]
          },
          "metadata": {
            "tags": []
          }
        }
      ]
    },
    {
      "cell_type": "code",
      "metadata": {
        "id": "PAUbYZHeOfC5",
        "colab_type": "code",
        "outputId": "2076668e-2ceb-450d-ac22-d1ad51f70e8f",
        "cellView": "form",
        "colab": {
          "base_uri": "https://localhost:8080/",
          "height": 134
        }
      },
      "source": [
        "#@title Describe Class Imbalance and train/test split\n",
        "### Because we have a smaller dataset and class imbalance, we need to\n",
        "### up-sample before we train our models\n",
        "\n",
        "# Doing both of the above, we create our train/test split\n",
        "Pit_trainX_orig, Pit_testX, Pit_trainY_orig, Pit_testY = train_test_split(Pit_X,\n",
        "                                         Pit_Y, \n",
        "                                         #stratify = Hit_Y,\n",
        "                                         test_size = 0.2, \n",
        "                                         random_state = 42)\n",
        "\n",
        "print(\"Full dataset\")\n",
        "print(\"0:  {0}\".format((Pitchers.iloc[:,-1]==0).sum()))\n",
        "print(\"1:  {0}\".format(Pitchers.iloc[:,-1].sum()))\n",
        "print()\n",
        "print(\"Validation set\")\n",
        "print(\"0:  {0}\".format((Pit_testY==0).sum()))\n",
        "print(\"1:  {0}\".format(Pit_testY.sum()))"
      ],
      "execution_count": 0,
      "outputs": [
        {
          "output_type": "stream",
          "text": [
            "Full dataset\n",
            "0:  161\n",
            "1:  32\n",
            "\n",
            "Validation set\n",
            "0:  36\n",
            "1:  3\n"
          ],
          "name": "stdout"
        }
      ]
    },
    {
      "cell_type": "markdown",
      "metadata": {
        "id": "JD7MDFTRtNeN",
        "colab_type": "text"
      },
      "source": [
        "Synthetic Minority Over-sampling Technique (SMOTE) can help us take care of our class imbalance problem by over-sampling the minority class. Here we can see the package and function call required to use SMOTE. What will come out is training data that is synthetically balanced:"
      ]
    },
    {
      "cell_type": "code",
      "metadata": {
        "id": "tTKksKuntRRG",
        "colab_type": "code",
        "colab": {}
      },
      "source": [
        "%%capture\n",
        "from imblearn.over_sampling import SMOTE\n",
        "\n",
        "sm = SMOTE(random_state=42, ratio=1.0)\n",
        "Pit_trainX, Pit_trainY = sm.fit_sample(Pit_trainX_orig, Pit_trainY_orig)"
      ],
      "execution_count": 0,
      "outputs": []
    },
    {
      "cell_type": "code",
      "metadata": {
        "id": "DlOqUkPJtj1I",
        "colab_type": "code",
        "cellView": "form",
        "outputId": "8498a81e-03c2-4c10-fba6-e627c870c329",
        "colab": {
          "base_uri": "https://localhost:8080/",
          "height": 134
        }
      },
      "source": [
        "#@title SMOTE in practice\n",
        "\n",
        "# Shows imbalance maintained even with train/test splits, thanks to stratifying\n",
        "print(\"Training set before SMOTE\")\n",
        "print(\"0:  {0}\".format((Pit_trainY_orig==0).sum()))\n",
        "print(\"1:  {0}\".format(Pit_trainY_orig.sum()))\n",
        "print()\n",
        "print(\"Training Set after SMOTE\")\n",
        "print(\"0:  {0}\".format((Pit_trainY==0).sum()))\n",
        "print(\"1:  {0}\".format(Pit_trainY.sum()))"
      ],
      "execution_count": 0,
      "outputs": [
        {
          "output_type": "stream",
          "text": [
            "Training set before SMOTE\n",
            "0:  125\n",
            "1:  29\n",
            "\n",
            "Training Set after SMOTE\n",
            "0:  125\n",
            "1:  125\n"
          ],
          "name": "stdout"
        }
      ]
    },
    {
      "cell_type": "markdown",
      "metadata": {
        "id": "AA2CCnexN27t",
        "colab_type": "text"
      },
      "source": [
        "My first attempt at creating a classifier will start with a RandomForest. Using the following parameters, I used sklearn's GridSearchCV function to find optimal hyperparameters:\n",
        "\n",
        "*   n_estimators (100, 300, 500, 800, 1000)\n",
        "*   criterion (gini, entropy)\n",
        "*   max_depth (5, 10, 15)\n",
        "\n",
        "For a scoring metric I chose f1 score, because of the presence of class imbalance."
      ]
    },
    {
      "cell_type": "code",
      "metadata": {
        "id": "raAZyl7fFFkF",
        "colab_type": "code",
        "cellView": "both",
        "colab": {}
      },
      "source": [
        "%%capture\n",
        "# Creates and stores Random Forest object\n",
        "rf = RandomForestClassifier(random_state=0, class_weight=None)\n",
        "\n",
        "# Sets up a parameter grid to tune hyperparameters\n",
        "# bootstrap and max_features are left alone, because they never changed\n",
        "rf_grid_param = {\n",
        "    'n_estimators': [100, 300, 500, 800, 1000],\n",
        "    'criterion': ['gini', 'entropy'],\n",
        "    'max_depth': [5, 10, 15]\n",
        "}\n",
        "\n",
        "# Puts gridsearch together (takes about 3 minutes to run)\n",
        "# f1_weighted is better scoring choice because of data imbalance, however SMOTE\n",
        "# takes care of this imbalance, so we can just use f1 as our scoring metric\n",
        "rfGridSearch = GridSearchCV(rf, param_grid=rf_grid_param, scoring='f1', cv=3, n_jobs=-1)\n",
        "\n",
        "# Now we fit the training data to our gridsearch object\n",
        "rfGridSearch.fit(Pit_trainX, Pit_trainY.ravel())"
      ],
      "execution_count": 0,
      "outputs": []
    },
    {
      "cell_type": "code",
      "metadata": {
        "id": "FxdPd_MruMA3",
        "colab_type": "code",
        "cellView": "form",
        "outputId": "8d2b028e-ca53-4a0b-fb8a-ae853ee2e180",
        "colab": {
          "base_uri": "https://localhost:8080/",
          "height": 50
        }
      },
      "source": [
        "#@title Next, we seek to choose the best parameters from GridSearchCV\n",
        "# Now we want to isolate the parameters \n",
        "# with the highest f1_weighted score on the train data\n",
        "print(\"Best Parameters: {0} \\n\".format(rfGridSearch.best_params_))\n"
      ],
      "execution_count": 0,
      "outputs": [
        {
          "output_type": "stream",
          "text": [
            "Best Parameters: {'criterion': 'entropy', 'max_depth': 10, 'n_estimators': 300} \n",
            "\n"
          ],
          "name": "stdout"
        }
      ]
    },
    {
      "cell_type": "code",
      "metadata": {
        "id": "SxIx4N7sed8V",
        "colab_type": "code",
        "outputId": "0a481cb7-cc3a-4553-c124-eeb7b9241c88",
        "cellView": "form",
        "colab": {
          "base_uri": "https://localhost:8080/",
          "height": 218
        }
      },
      "source": [
        "#@title We then fit the validation set to those specifications. Here are the results:\n",
        "# These now become our estimator parameters\n",
        "# Now our model is ready to be introduced to our test data\n",
        "# proba is better than deterministic for roc_auc\n",
        "rf_best_grid = rfGridSearch.best_estimator_\n",
        "rf_test_score = f1_score(Pit_testY, rf_best_grid.predict(Pit_testX), average='weighted')\n",
        "rf_grid_roc_auc = roc_auc_score(Pit_testY, rf_best_grid.predict_proba(Pit_testX)[:,1])\n",
        "\n",
        "print(\"Classification Report:\\n{0}\".format(classification_report(Pit_testY, rf_best_grid.predict(Pit_testX))))\n",
        "# print(\"Our best train f1 score is: {0}\".format(round(rfGridSearch.best_score_, 4)))\n",
        "print(\"Our test f1 score is: {0}\".format(round(rf_test_score, 4)))\n",
        "print(\"Our test roc_auc score is: {0}\".format(round(rf_grid_roc_auc, 4)))"
      ],
      "execution_count": 0,
      "outputs": [
        {
          "output_type": "stream",
          "text": [
            "Classification Report:\n",
            "              precision    recall  f1-score   support\n",
            "\n",
            "           0       0.97      0.86      0.91        36\n",
            "           1       0.29      0.67      0.40         3\n",
            "\n",
            "    accuracy                           0.85        39\n",
            "   macro avg       0.63      0.76      0.66        39\n",
            "weighted avg       0.92      0.85      0.87        39\n",
            "\n",
            "Our test f1 score is: 0.8724\n",
            "Our test roc_auc score is: 0.9352\n"
          ],
          "name": "stdout"
        }
      ]
    },
    {
      "cell_type": "code",
      "metadata": {
        "id": "cELZKYUYPgHO",
        "colab_type": "code",
        "outputId": "9a18a371-6af1-43be-ab16-c1fbfa4542ca",
        "cellView": "form",
        "colab": {
          "base_uri": "https://localhost:8080/",
          "height": 185
        }
      },
      "source": [
        "#@title Just to get an idea of what columns told us the most, we can also look at Feature Importance\n",
        "# Creates a pseudo table of feature importances\n",
        "# (Changing the design matrix at the top will show feature importances for whole dataset)\n",
        "rf_dict_vals = pd.Series(data=rf_best_grid.feature_importances_,index=Pit_trainX_orig.columns)\n",
        "print(\"Feature Importances:\\n{0}\".format(rf_dict_vals.sort_values(ascending=False)))"
      ],
      "execution_count": 0,
      "outputs": [
        {
          "output_type": "stream",
          "text": [
            "Feature Importances:\n",
            "Dollars    0.233448\n",
            "RA9-WAR    0.215573\n",
            "Salary     0.126674\n",
            "TBF        0.118990\n",
            "GS         0.106790\n",
            "Age        0.092681\n",
            "G          0.062222\n",
            "SV         0.043622\n",
            "dtype: float64\n"
          ],
          "name": "stdout"
        }
      ]
    },
    {
      "cell_type": "code",
      "metadata": {
        "id": "N9TPZg8kcBrw",
        "colab_type": "code",
        "outputId": "55a1dba8-5462-4dd5-a9ec-45be148d49d6",
        "cellView": "form",
        "colab": {
          "base_uri": "https://localhost:8080/",
          "height": 296
        }
      },
      "source": [
        "#@title Finally, we look at the confusion matrix to see how our model performed on the validation set\n",
        "# Class predictions for test data\n",
        "rf_predictions = rf_best_grid.predict(Pit_testX)\n",
        "\n",
        "# Confusion matrix for test data\n",
        "conf_mat_rf = confusion_matrix(Pit_testY, rf_predictions)/Pit_testY.shape[0]\n",
        "\n",
        "# Plotted Confusion matrix for test data\n",
        "rf_df_cm = pd.DataFrame(conf_mat_rf, index = [i for i in [0,1]],\n",
        "                  columns = [i for i in [0,1]])\n",
        "sn.heatmap(rf_df_cm, annot=True, linewidths=0.5, cmap=sn.color_palette([\"#9b59b6\", \"#3498db\", \"#95a5a6\", \"#e74c3c\", \"#34495e\", \"#2ecc71\"])).set(xlabel=\"Predicted\", ylabel=\"True\")\n",
        "print()"
      ],
      "execution_count": 0,
      "outputs": [
        {
          "output_type": "stream",
          "text": [
            "\n"
          ],
          "name": "stdout"
        },
        {
          "output_type": "display_data",
          "data": {
            "image/png": "[encoded data removed]",
            "text/plain": [
              "<Figure size 432x288 with 2 Axes>"
            ]
          },
          "metadata": {
            "tags": []
          }
        }
      ]
    },
    {
      "cell_type": "code",
      "metadata": {
        "id": "BKBEjd1TcwSc",
        "colab_type": "code",
        "outputId": "a5d1b421-6ec8-48cb-e7c1-3c9d7e2c5e48",
        "cellView": "form",
        "colab": {
          "base_uri": "https://localhost:8080/",
          "height": 481
        }
      },
      "source": [
        "#@title And to get an understanding of how the model performs on the entire dataset:\n",
        "# Predictions for full dataset\n",
        "rf_pred_full = rf_best_grid.predict(Pit_X)\n",
        "\n",
        "# Confusion matrix for full dataset\n",
        "conf_mat_rf_full = confusion_matrix(Pit_Y, rf_pred_full)/Pit_Y.shape[0]\n",
        "\n",
        "# Plotted Confusion matrix for full dataset\n",
        "rf_df_cm_full = pd.DataFrame(conf_mat_rf_full, index = [i for i in [0,1]],\n",
        "                  columns = [i for i in [0,1]])\n",
        "sn.heatmap(rf_df_cm_full, annot=True, linewidths=0.5, cmap=sn.color_palette([\"#9b59b6\", \"#3498db\", \"#95a5a6\", \"#e74c3c\", \"#34495e\", \"#2ecc71\"])).set(xlabel=\"Predicted\", ylabel=\"True\")\n",
        "\n",
        "rf_ovr_f1 = f1_score(Pit_Y, rf_best_grid.predict(Pit_X), average='weighted')\n",
        "rf_ovr_roc_auc = roc_auc_score(Pit_Y, rf_best_grid.predict_proba(Pit_X)[:,1])\n",
        "\n",
        "print(\"Classification Report:\\n{0}\".format(classification_report(Pit_Y, rf_best_grid.predict(Pit_X))))\n",
        "print(\"Our overall f1 score is: {0}\".format(round(rf_ovr_f1, 4)))\n",
        "print(\"Our overall roc_auc score is: {0}\".format(round(rf_ovr_roc_auc, 4)))"
      ],
      "execution_count": 0,
      "outputs": [
        {
          "output_type": "stream",
          "text": [
            "Classification Report:\n",
            "              precision    recall  f1-score   support\n",
            "\n",
            "           0       0.99      0.97      0.98       161\n",
            "           1       0.86      0.97      0.91        32\n",
            "\n",
            "    accuracy                           0.97       193\n",
            "   macro avg       0.93      0.97      0.95       193\n",
            "weighted avg       0.97      0.97      0.97       193\n",
            "\n",
            "Our overall f1 score is: 0.9696\n",
            "Our overall roc_auc score is: 0.9955\n"
          ],
          "name": "stdout"
        },
        {
          "output_type": "display_data",
          "data": {
            "image/png": "[encoded data removed]",
            "text/plain": [
              "<Figure size 432x288 with 2 Axes>"
            ]
          },
          "metadata": {
            "tags": []
          }
        }
      ]
    },
    {
      "cell_type": "code",
      "metadata": {
        "id": "YVEAIBKwqPvt",
        "colab_type": "code",
        "outputId": "82f4c899-b55a-48d7-bcd8-a32008d90dfc",
        "cellView": "form",
        "colab": {
          "base_uri": "https://localhost:8080/",
          "height": 134
        }
      },
      "source": [
        "#@title An interesting thing we can do here is all the players who ended up misclassified. Here are those specific players:\n",
        "# Who were the ones that fell through the cracks?\n",
        "da = pd.DataFrame(rf_best_grid.predict(Pit_X)==Pit_Y)\n",
        "print(Pitchers.iloc[da.loc[da['QO']==False].index,0:3])"
      ],
      "execution_count": 0,
      "outputs": [
        {
          "output_type": "stream",
          "text": [
            "             Player  Age  Year\n",
            "5         Dan Haren   31  2012\n",
            "98      Colby Lewis   35  2015\n",
            "112    Mike Pelfrey   31  2015\n",
            "146  Andrew Cashner   30  2017\n",
            "155    Greg Holland   31  2017\n",
            "158    Jason Vargas   34  2017\n"
          ],
          "name": "stdout"
        }
      ]
    },
    {
      "cell_type": "markdown",
      "metadata": {
        "id": "XKO0hyPxURuj",
        "colab_type": "text"
      },
      "source": [
        "My second attempt at creating a classifier will start with a Logistic Regression. Using the following parameters, I used sklearn's GridSearchCV function to find optimal hyperparameters:\n",
        "\n",
        "*   C (np.logspace(-4, 4, 20))\n",
        "*   class_weight (None, balanced)\n",
        "*   penalty (l1, l2)\n",
        "\n",
        "For a scoring metric I chose f1 score, because of the presence of class imbalance."
      ]
    },
    {
      "cell_type": "code",
      "metadata": {
        "id": "UhZfUSQyUhDi",
        "colab_type": "code",
        "cellView": "both",
        "colab": {}
      },
      "source": [
        "%%capture\n",
        "from sklearn.linear_model import LogisticRegression\n",
        "\n",
        "# Creates and stores Random Forest object\n",
        "logr = LogisticRegression()\n",
        "\n",
        "# Sets up a parameter grid to tune hyperparameters\n",
        "# bootstrap and max_features are left alone, because they never changed\n",
        "logr_grid_param = {\n",
        "    'penalty' : ['l1', 'l2'],\n",
        "    'C' : np.logspace(-4, 4, 20),\n",
        "    'class_weight': [None, 'balanced'] \n",
        "}\n",
        "\n",
        "# Puts gridsearch together\n",
        "# f1_weighted is better scoring choice because of data imbalance, however SMOTE\n",
        "# takes care of this imbalance, so we can just use f1 as our scoring metric\n",
        "logrGridSearch = GridSearchCV(logr, param_grid=logr_grid_param, scoring='f1', cv=3, n_jobs=-1)\n",
        "\n",
        "# Now we fit the training data to our gridsearch object\n",
        "logrGridSearch.fit(Pit_trainX, Pit_trainY.ravel())"
      ],
      "execution_count": 0,
      "outputs": []
    },
    {
      "cell_type": "code",
      "metadata": {
        "id": "nrUjavTsvm_O",
        "colab_type": "code",
        "cellView": "form",
        "outputId": "8a372f84-d4fc-46a6-f366-c1228cc6e297",
        "colab": {
          "base_uri": "https://localhost:8080/",
          "height": 70
        }
      },
      "source": [
        "#@title Next, we seek to choose the best parameters from GridSearchCV\n",
        "# Now we want to isolate the parameters \n",
        "# with the highest f1_weighted score on the train data\n",
        "print(\"Best Parameters: {0} \\n\".format(logrGridSearch.best_params_))"
      ],
      "execution_count": 0,
      "outputs": [
        {
          "output_type": "stream",
          "text": [
            "Best Parameters: {'C': 78.47599703514607, 'class_weight': 'balanced', 'penalty': 'l1'} \n",
            "\n"
          ],
          "name": "stdout"
        }
      ]
    },
    {
      "cell_type": "code",
      "metadata": {
        "id": "FZsM-txbjtoF",
        "colab_type": "code",
        "outputId": "9e74d073-1f83-487d-ea93-aedd85330cb7",
        "cellView": "form",
        "colab": {
          "base_uri": "https://localhost:8080/",
          "height": 218
        }
      },
      "source": [
        "#@title We then fit the validation set to those specifications. Here are the results:\n",
        "# These now become our estimator parameters\n",
        "# Now our model is ready to be introduced to our test data\n",
        "# proba is better than deterministic for roc_auc\n",
        "logr_best_grid = logrGridSearch.best_estimator_\n",
        "logr_test_score = f1_score(Pit_testY, logr_best_grid.predict(Pit_testX), average='weighted')\n",
        "logr_grid_roc_auc = roc_auc_score(Pit_testY, logr_best_grid.predict_proba(Pit_testX)[:,1])\n",
        "\n",
        "print(\"Classification Report:\\n{0}\".format(classification_report(Pit_testY, logr_best_grid.predict(Pit_testX))))\n",
        "print(\"Our test f1 score is: {0}\".format(round(logr_test_score, 4)))\n",
        "print(\"Our test roc_auc score is: {0}\".format(round(logr_grid_roc_auc, 4)))"
      ],
      "execution_count": 0,
      "outputs": [
        {
          "output_type": "stream",
          "text": [
            "Classification Report:\n",
            "              precision    recall  f1-score   support\n",
            "\n",
            "           0       1.00      0.83      0.91        36\n",
            "           1       0.33      1.00      0.50         3\n",
            "\n",
            "    accuracy                           0.85        39\n",
            "   macro avg       0.67      0.92      0.70        39\n",
            "weighted avg       0.95      0.85      0.88        39\n",
            "\n",
            "Our test f1 score is: 0.8776\n",
            "Our test roc_auc score is: 0.9907\n"
          ],
          "name": "stdout"
        }
      ]
    },
    {
      "cell_type": "code",
      "metadata": {
        "id": "AAuD6tTJkzby",
        "colab_type": "code",
        "outputId": "d4b03bd0-881b-420f-b9e0-ca2c85646e3c",
        "cellView": "form",
        "colab": {
          "base_uri": "https://localhost:8080/",
          "height": 296
        }
      },
      "source": [
        "#@title Finally, we look at the confusion matrix to see how our model performed on the validation set\n",
        "# Class predictions for test data\n",
        "logr_predictions = logr_best_grid.predict(Pit_testX)\n",
        "\n",
        "# Confusion matrix for test data\n",
        "conf_mat_logr = confusion_matrix(Pit_testY, logr_predictions)/Pit_testY.shape[0]\n",
        "\n",
        "# Plotted Confusion matrix for test data\n",
        "logr_df_cm = pd.DataFrame(conf_mat_logr, index = [i for i in [0,1]],\n",
        "                  columns = [i for i in [0,1]])\n",
        "sn.heatmap(logr_df_cm, annot=True, linewidths=0.5, cmap=sn.color_palette([\"#9b59b6\", \"#3498db\", \"#95a5a6\", \"#e74c3c\", \"#34495e\", \"#2ecc71\"])).set(xlabel=\"Predicted\", ylabel=\"True\")\n",
        "print()"
      ],
      "execution_count": 0,
      "outputs": [
        {
          "output_type": "stream",
          "text": [
            "\n"
          ],
          "name": "stdout"
        },
        {
          "output_type": "display_data",
          "data": {
            "image/png": "[encoded data removed]",
            "text/plain": [
              "<Figure size 432x288 with 2 Axes>"
            ]
          },
          "metadata": {
            "tags": []
          }
        }
      ]
    },
    {
      "cell_type": "code",
      "metadata": {
        "id": "uERuorEQl7uF",
        "colab_type": "code",
        "outputId": "915fcf8a-e0b5-4e93-9b09-960174187a2f",
        "cellView": "form",
        "colab": {
          "base_uri": "https://localhost:8080/",
          "height": 481
        }
      },
      "source": [
        "#@title And to get an understanding of how the model performs on the entire dataset:\n",
        "# Predictions for full dataset\n",
        "logr_pred_full = logr_best_grid.predict(Pit_X)\n",
        "\n",
        "# Confusion matrix for full dataset\n",
        "conf_mat_logr_full = confusion_matrix(Pit_Y, logr_pred_full)/Pit_Y.shape[0]\n",
        "\n",
        "# Plotted Confusion matrix for full dataset\n",
        "logr_df_cm_full = pd.DataFrame(conf_mat_logr_full, index = [i for i in [0,1]],\n",
        "                  columns = [i for i in [0,1]])\n",
        "sn.heatmap(logr_df_cm_full, annot=True, linewidths=0.5, cmap=sn.color_palette([\"#9b59b6\", \"#3498db\", \"#95a5a6\", \"#e74c3c\", \"#34495e\", \"#2ecc71\"])).set(xlabel=\"Predicted\", ylabel=\"True\")\n",
        "\n",
        "logr_ovr_f1 = f1_score(Pit_Y, logr_best_grid.predict(Pit_X), average='weighted')\n",
        "logr_ovr_roc_auc = roc_auc_score(Pit_Y, logr_best_grid.predict_proba(Pit_X)[:,1])\n",
        "\n",
        "print(\"Classification Report:\\n{0}\".format(classification_report(Pit_Y, logr_best_grid.predict(Pit_X))))\n",
        "print(\"Our overall f1 score is: {0}\".format(round(logr_ovr_f1, 4)))\n",
        "print(\"Our overall roc_auc score is: {0}\".format(round(logr_ovr_roc_auc, 4)))"
      ],
      "execution_count": 0,
      "outputs": [
        {
          "output_type": "stream",
          "text": [
            "Classification Report:\n",
            "              precision    recall  f1-score   support\n",
            "\n",
            "           0       0.98      0.86      0.92       161\n",
            "           1       0.57      0.91      0.70        32\n",
            "\n",
            "    accuracy                           0.87       193\n",
            "   macro avg       0.77      0.88      0.81       193\n",
            "weighted avg       0.91      0.87      0.88       193\n",
            "\n",
            "Our overall f1 score is: 0.8812\n",
            "Our overall roc_auc score is: 0.9682\n"
          ],
          "name": "stdout"
        },
        {
          "output_type": "display_data",
          "data": {
            "image/png": "[encoded data removed]",
            "text/plain": [
              "<Figure size 432x288 with 2 Axes>"
            ]
          },
          "metadata": {
            "tags": []
          }
        }
      ]
    },
    {
      "cell_type": "markdown",
      "metadata": {
        "id": "2E5ZJLu4pv82",
        "colab_type": "text"
      },
      "source": [
        "My final attempt at creating a classifier will be a Gaussian Naive Bayes. I used sklearn's GridSearchCV function, however one of the benefits of GNB is that it works rather effectively OOTB. Therefore, there are no hyperparameters to tune here.\n",
        "\n",
        "For a scoring metric I chose f1 score, because of the presence of class imbalance."
      ]
    },
    {
      "cell_type": "code",
      "metadata": {
        "id": "tmCQ09tTsv0l",
        "colab_type": "code",
        "cellView": "both",
        "colab": {}
      },
      "source": [
        "%%capture\n",
        "from sklearn.naive_bayes import GaussianNB\n",
        "\n",
        "# Creates and stores Gaussian Naive Bayes object\n",
        "gnb = GaussianNB()\n",
        "\n",
        "# Sets up a parameter grid to tune hyperparameters\n",
        "# bootstrap and max_features are left alone, because they never changed\n",
        "\n",
        "gnb_grid_param = {\n",
        "\n",
        "}\n",
        "\n",
        "\n",
        "# Puts gridsearch together\n",
        "# f1_weighted is better scoring choice because of data imbalance, however SMOTE\n",
        "# takes care of this imbalance, so we can just use f1 as our scoring metric\n",
        "gnbGridSearch = GridSearchCV(gnb, param_grid=gnb_grid_param, scoring='f1', cv=3, n_jobs=-1,)\n",
        "\n",
        "# Now we fit the training data to our gridsearch object\n",
        "gnbGridSearch.fit(Pit_trainX, Pit_trainY.ravel())"
      ],
      "execution_count": 0,
      "outputs": []
    },
    {
      "cell_type": "code",
      "metadata": {
        "id": "8oJZc2f0RzHE",
        "colab_type": "code",
        "outputId": "58d660f0-18bf-4958-d644-cf506ab0221b",
        "cellView": "form",
        "colab": {
          "base_uri": "https://localhost:8080/",
          "height": 218
        }
      },
      "source": [
        "#@title We then fit the validation set to those specifications. Here are the results:\n",
        "\n",
        "# These now become our estimator parameters\n",
        "# Now our model is ready to be introduced to our test data\n",
        "# proba is better than deterministic for roc_auc\n",
        "gnb_best_grid = gnbGridSearch.best_estimator_\n",
        "gnb_test_score = f1_score(Pit_testY, gnb_best_grid.predict(Pit_testX), average='weighted')\n",
        "gnb_grid_roc_auc = roc_auc_score(Pit_testY, gnb_best_grid.predict_proba(Pit_testX)[:,1])\n",
        "\n",
        "print(\"Classification Report:\\n{0}\".format(classification_report(Pit_testY, gnb_best_grid.predict(Pit_testX))))\n",
        "print(\"Our test f1 score is: {0}\".format(round(gnb_test_score, 4)))\n",
        "print(\"Our test roc_auc score is: {0}\".format(round(gnb_grid_roc_auc, 4)))"
      ],
      "execution_count": 0,
      "outputs": [
        {
          "output_type": "stream",
          "text": [
            "Classification Report:\n",
            "              precision    recall  f1-score   support\n",
            "\n",
            "           0       0.96      0.72      0.83        36\n",
            "           1       0.17      0.67      0.27         3\n",
            "\n",
            "    accuracy                           0.72        39\n",
            "   macro avg       0.56      0.69      0.55        39\n",
            "weighted avg       0.90      0.72      0.78        39\n",
            "\n",
            "Our test f1 score is: 0.7824\n",
            "Our test roc_auc score is: 0.7685\n"
          ],
          "name": "stdout"
        }
      ]
    },
    {
      "cell_type": "code",
      "metadata": {
        "id": "6mkLTP_QTs3B",
        "colab_type": "code",
        "outputId": "8e81e894-7e16-4376-b1d2-85dc2767c7b9",
        "cellView": "form",
        "colab": {
          "base_uri": "https://localhost:8080/",
          "height": 296
        }
      },
      "source": [
        "#@title Finally, we look at the confusion matrix to see how our model performed on the validation set\n",
        "# Class predictions for test data\n",
        "gnb_predictions = gnb_best_grid.predict(Pit_testX)\n",
        "\n",
        "# Confusion matrix for test data\n",
        "conf_mat_gnb = confusion_matrix(Pit_testY, gnb_predictions)/Pit_testY.shape[0]\n",
        "\n",
        "# Plotted Confusion matrix for test data\n",
        "gnb_df_cm = pd.DataFrame(conf_mat_gnb, index = [i for i in [0,1]],\n",
        "                  columns = [i for i in [0,1]])\n",
        "sn.heatmap(gnb_df_cm, annot=True, linewidths=0.5, cmap=sn.color_palette([\"#9b59b6\", \"#3498db\", \"#95a5a6\", \"#e74c3c\", \"#34495e\", \"#2ecc71\"])).set(xlabel=\"Predicted\", ylabel=\"True\")\n",
        "print()"
      ],
      "execution_count": 0,
      "outputs": [
        {
          "output_type": "stream",
          "text": [
            "\n"
          ],
          "name": "stdout"
        },
        {
          "output_type": "display_data",
          "data": {
            "image/png": "[encoded data removed]",
            "text/plain": [
              "<Figure size 432x288 with 2 Axes>"
            ]
          },
          "metadata": {
            "tags": []
          }
        }
      ]
    },
    {
      "cell_type": "code",
      "metadata": {
        "id": "pbfSbL1dZZi5",
        "colab_type": "code",
        "outputId": "0ebf829d-6cbd-4f5a-d00b-65eeced37466",
        "cellView": "form",
        "colab": {
          "base_uri": "https://localhost:8080/",
          "height": 481
        }
      },
      "source": [
        "#@title And to get an understanding of how the model performs on the entire dataset:\n",
        "# Predictions for full dataset\n",
        "gnb_pred_full = gnb_best_grid.predict(Pit_X)\n",
        "\n",
        "# Confusion matrix for full dataset\n",
        "conf_mat_gnb_full = confusion_matrix(Pit_Y, gnb_pred_full)/Pit_Y.shape[0]\n",
        "\n",
        "# Plotted Confusion matrix for full dataset\n",
        "gnb_df_cm_full = pd.DataFrame(conf_mat_gnb_full, index = [i for i in [0,1]],\n",
        "                  columns = [i for i in [0,1]])\n",
        "sn.heatmap(gnb_df_cm_full, annot=True, linewidths=0.5, cmap=sn.color_palette([\"#9b59b6\", \"#3498db\", \"#95a5a6\", \"#e74c3c\", \"#34495e\", \"#2ecc71\"])).set(xlabel=\"Predicted\", ylabel=\"True\")\n",
        "\n",
        "gnb_ovr_f1 = f1_score(Pit_Y, gnb_best_grid.predict(Pit_X), average='weighted')\n",
        "gnb_ovr_roc_auc = roc_auc_score(Pit_Y, gnb_best_grid.predict_proba(Pit_X)[:,1])\n",
        "\n",
        "print(\"Classification Report:\\n{0}\".format(classification_report(Pit_Y, gnb_best_grid.predict(Pit_X))))\n",
        "print(\"Our overall f1 score is: {0}\".format(round(gnb_ovr_f1, 4)))\n",
        "print(\"Our overall roc_auc score is: {0}\".format(round(gnb_ovr_roc_auc, 4)))"
      ],
      "execution_count": 0,
      "outputs": [
        {
          "output_type": "stream",
          "text": [
            "Classification Report:\n",
            "              precision    recall  f1-score   support\n",
            "\n",
            "           0       0.94      0.76      0.84       161\n",
            "           1       0.39      0.75      0.51        32\n",
            "\n",
            "    accuracy                           0.76       193\n",
            "   macro avg       0.66      0.76      0.68       193\n",
            "weighted avg       0.85      0.76      0.79       193\n",
            "\n",
            "Our overall f1 score is: 0.7874\n",
            "Our overall roc_auc score is: 0.8488\n"
          ],
          "name": "stdout"
        },
        {
          "output_type": "display_data",
          "data": {
            "image/png": "[encoded data removed]",
            "text/plain": [
              "<Figure size 432x288 with 2 Axes>"
            ]
          },
          "metadata": {
            "tags": []
          }
        }
      ]
    },
    {
      "cell_type": "markdown",
      "metadata": {
        "id": "Nvg-FhOr4ntV",
        "colab_type": "text"
      },
      "source": [
        "# Conclusions\n",
        "\n",
        "Of the three models built, the Random Forest and Logistic Regression seem to have performed equally well. On the validation set, both performed similarly and miss the same rows. However, reapplying both on the full set, the Random Forest model comes out with a better `f1` and `ROC_AUC` score. In general, both models perform well and new data would help better understand which model works better.\n",
        "\n",
        "To solve this issue, as with the hitter models, I could apply data from the 2019 season to both models and see how the testing metrics change. Overall, I feel confident that both models work in the ways I hoped they would. Both, and the Random Forest in particular, don't have the many misclassifications of players that received a QO when they were predicted not to. This can be particulary useful, as it can help players and agents more accurately predict when they are about to receive a QO offer with enough lead-time to act accordingly."
      ]
    }
  ]
}